{
 "cells": [
  {
   "cell_type": "markdown",
   "id": "446f63a8",
   "metadata": {},
   "source": [
    "# Input a list from the user, and add the elements in the list and return the largest and smallest in that list"
   ]
  },
  {
   "cell_type": "code",
   "execution_count": 1,
   "id": "3f1c6703",
   "metadata": {},
   "outputs": [
    {
     "name": "stdout",
     "output_type": "stream",
     "text": [
      "Enter the lenth of list:5\n",
      "enter the elements here: 23\n",
      "enter the elements here: 5\n",
      "enter the elements here: 34\n",
      "enter the elements here: 13\n",
      "enter the elements here: 24\n",
      "The Smallest Element is :  5\n",
      "The Largest Element is :  34\n"
     ]
    }
   ],
   "source": [
    "list = []\n",
    "a= int(input(\"Enter the lenth of list:\"))\n",
    "for i in range(1, a+1):\n",
    "    element = int(input(\"enter the elements here: \"))\n",
    "    list.append(element)\n",
    "\n",
    "print(\"The Smallest Element is : \", min(list))\n",
    "print(\"The Largest Element is : \", max(list))"
   ]
  },
  {
   "cell_type": "markdown",
   "id": "45fe73c5",
   "metadata": {},
   "source": [
    "# 1. Input -  String -xyz\n",
    "#                  Integer- 4\n",
    "#    Output - \n",
    "#                  String - bcd\n",
    "\n",
    "# 2. Input-\n",
    "#               String = pdh\n",
    "#              integer = 6\n",
    "#    Output\n",
    "#               String = vjn"
   ]
  },
  {
   "cell_type": "code",
   "execution_count": 2,
   "id": "cb52c553",
   "metadata": {},
   "outputs": [
    {
     "name": "stdout",
     "output_type": "stream",
     "text": [
      "Enter a String:xyz\n",
      "Enter no. of characters to be shifted :4\n",
      "bcd\n"
     ]
    }
   ],
   "source": [
    "import string\n",
    "def shift(s,no):\n",
    "    lower=string.ascii_lowercase\n",
    "    s1=''\n",
    "    for char in s:\n",
    "        a=lower.index(char)\n",
    "        a=(a+no)%26\n",
    "        s1=s1+(lower[a])\n",
    "    return s1\n",
    "s=input(\"Enter a String:\")\n",
    "no =int(input(\"Enter no. of characters to be shifted :\"))\n",
    "print(shift(s,no))"
   ]
  },
  {
   "cell_type": "markdown",
   "id": "a72c3dd4",
   "metadata": {},
   "source": [
    "# write a program to print all the prime numbers till 100"
   ]
  },
  {
   "cell_type": "code",
   "execution_count": 3,
   "id": "1eef16b8",
   "metadata": {},
   "outputs": [
    {
     "name": "stdout",
     "output_type": "stream",
     "text": [
      "2 3 5 7 11 13 17 19 23 29 31 37 41 43 47 53 59 61 67 71 73 79 83 89 97 "
     ]
    }
   ],
   "source": [
    "for i in range(1,101):\n",
    "    count=0\n",
    "    for j in range(2,(i//2 + 1)):\n",
    "        if(i%j==0):\n",
    "            count=count+1\n",
    "            break\n",
    "    if(count==0 and i!=1):\n",
    "        print(i,end=' ')"
   ]
  },
  {
   "cell_type": "code",
   "execution_count": null,
   "id": "6c89f4e3",
   "metadata": {},
   "outputs": [],
   "source": []
  }
 ],
 "metadata": {
  "kernelspec": {
   "display_name": "Python 3",
   "language": "python",
   "name": "python3"
  },
  "language_info": {
   "codemirror_mode": {
    "name": "ipython",
    "version": 3
   },
   "file_extension": ".py",
   "mimetype": "text/x-python",
   "name": "python",
   "nbconvert_exporter": "python",
   "pygments_lexer": "ipython3",
   "version": "3.8.8"
  }
 },
 "nbformat": 4,
 "nbformat_minor": 5
}
